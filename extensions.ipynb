{
 "cells": [
  {
   "cell_type": "markdown",
   "metadata": {},
   "source": [
    "# Generate list of Extension in CSV"
   ]
  },
  {
   "cell_type": "code",
   "execution_count": 1,
   "metadata": {},
   "outputs": [],
   "source": [
    "from modules.utils import get_installed_extensions, load_environment_variables, generate_extension_data\n",
    "from modules.save_as import save_to_csv, save_to_markdown\n",
    "dotenv_path = '.env' # choose location of .env"
   ]
  },
  {
   "cell_type": "code",
   "execution_count": null,
   "metadata": {},
   "outputs": [],
   "source": [
    "code_cmd_path = load_environment_variables(dotenv_path)\n",
    "extensions = get_installed_extensions(code_cmd_path)\n",
    "print(extensions)"
   ]
  },
  {
   "cell_type": "code",
   "execution_count": null,
   "metadata": {},
   "outputs": [],
   "source": [
    "extensions_data = generate_extension_data(dotenv_path, extensions)\n",
    "print(extensions_data)"
   ]
  },
  {
   "cell_type": "code",
   "execution_count": 5,
   "metadata": {},
   "outputs": [],
   "source": [
    "save_as_csv = save_to_csv(extensions_data, 'extensions.csv') # save as csv"
   ]
  },
  {
   "cell_type": "code",
   "execution_count": 4,
   "metadata": {},
   "outputs": [],
   "source": [
    "save_as_md = save_to_markdown(extensions_data, 'extensions.md') # save as markdown"
   ]
  }
 ],
 "metadata": {
  "kernelspec": {
   "display_name": "iat_lht_data_monitoring",
   "language": "python",
   "name": "python3"
  },
  "language_info": {
   "codemirror_mode": {
    "name": "ipython",
    "version": 3
   },
   "file_extension": ".py",
   "mimetype": "text/x-python",
   "name": "python",
   "nbconvert_exporter": "python",
   "pygments_lexer": "ipython3",
   "version": "3.12.4"
  }
 },
 "nbformat": 4,
 "nbformat_minor": 2
}
