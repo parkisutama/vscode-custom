{
 "cells": [
  {
   "cell_type": "markdown",
   "metadata": {},
   "source": [
    "# Generate list of Extension in CSV"
   ]
  },
  {
   "cell_type": "code",
   "execution_count": 1,
   "metadata": {},
   "outputs": [],
   "source": [
    "from modules.utils import get_installed_extensions, load_environment_variables, generate_extension_data\n",
    "from modules.save_as import save_to_csv, save_to_markdown\n",
    "dotenv_path = '.env'"
   ]
  },
  {
   "cell_type": "code",
   "execution_count": 2,
   "metadata": {},
   "outputs": [
    {
     "name": "stdout",
     "output_type": "stream",
     "text": [
      "['be5invis.vscode-custom-css', 'bierner.github-markdown-preview', 'bierner.markdown-checkbox', 'bierner.markdown-emoji', 'bierner.markdown-footnotes', 'bierner.markdown-mermaid', 'bierner.markdown-preview-github-styles', 'bierner.markdown-yaml-preamble', 'chadalen.vscode-jetbrains-icon-theme', 'davidanson.vscode-markdownlint', 'eamodio.gitlens', 'eliostruyf.vscode-front-matter', 'esbenp.prettier-vscode', 'github.copilot', 'github.copilot-chat', 'github.github-vscode-theme', 'golang.go', 'jock.svg', 'khaeransori.json2csv', 'meezilla.json', 'miguelsolorio.fluent-icons', 'ms-python.debugpy', 'ms-python.python', 'ms-python.vscode-pylance', 'ms-toolsai.datawrangler', 'ms-toolsai.jupyter', 'ms-toolsai.jupyter-keymap', 'ms-toolsai.jupyter-renderers', 'ms-toolsai.python-ds-extension-pack', 'ms-toolsai.vscode-jupyter-cell-tags', 'ms-toolsai.vscode-jupyter-slideshow', 'ms-vscode-remote.remote-wsl', 'ms-vscode.vscode-speech', 'rangav.vscode-thunder-client', 'redhat.vscode-yaml', 'ritwickdey.liveserver', 'shd101wyy.markdown-preview-enhanced', 'usernamehw.errorlens', 'visualstudioexptteam.intellicode-api-usage-examples', 'visualstudioexptteam.vscodeintellicode', 'vsls-contrib.gitdoc', 'yzhang.markdown-all-in-one']\n"
     ]
    }
   ],
   "source": [
    "code_cmd_path = load_environment_variables(dotenv_path)\n",
    "extensions = get_installed_extensions(code_cmd_path)\n",
    "print(extensions)"
   ]
  },
  {
   "cell_type": "code",
   "execution_count": 3,
   "metadata": {},
   "outputs": [
    {
     "name": "stdout",
     "output_type": "stream",
     "text": [
      "                      extension name  \\\n",
      "0           Custom CSS and JS Loader   \n",
      "1            GitHub Markdown Preview   \n",
      "2                Markdown Checkboxes   \n",
      "3                     Markdown Emoji   \n",
      "4                 Markdown Footnotes   \n",
      "5   Markdown Preview Mermaid Support   \n",
      "6    Markdown Preview Github Styling   \n",
      "7             Markdown yaml Preamble   \n",
      "8               JetBrains Icon Theme   \n",
      "9                       markdownlint   \n",
      "10      GitLens â Git supercharged   \n",
      "11                  Front Matter CMS   \n",
      "12         Prettier - Code formatter   \n",
      "13                    GitHub Copilot   \n",
      "14               GitHub Copilot Chat   \n",
      "15                      GitHub Theme   \n",
      "16                                Go   \n",
      "17                               SVG   \n",
      "18                       JSON to CSV   \n",
      "19                              JSON   \n",
      "20                      Fluent Icons   \n",
      "21                   Python Debugger   \n",
      "22                            Python   \n",
      "23                           Pylance   \n",
      "24                     Data Wrangler   \n",
      "25                           Jupyter   \n",
      "26                    Jupyter Keymap   \n",
      "27        Jupyter Notebook Renderers   \n",
      "28               Python Data Science   \n",
      "29                 Jupyter Cell Tags   \n",
      "30                Jupyter Slide Show   \n",
      "31                               WSL   \n",
      "32                    VS Code Speech   \n",
      "33                    Thunder Client   \n",
      "34                              YAML   \n",
      "35                       Live Server   \n",
      "36         Markdown Preview Enhanced   \n",
      "37                        Error Lens   \n",
      "38    IntelliCode API Usage Examples   \n",
      "39                       IntelliCode   \n",
      "40                            GitDoc   \n",
      "41               Markdown All in One   \n",
      "\n",
      "                                           identifier  \\\n",
      "0                          be5invis.vscode-custom-css   \n",
      "1                     bierner.github-markdown-preview   \n",
      "2                           bierner.markdown-checkbox   \n",
      "3                              bierner.markdown-emoji   \n",
      "4                          bierner.markdown-footnotes   \n",
      "5                            bierner.markdown-mermaid   \n",
      "6              bierner.markdown-preview-github-styles   \n",
      "7                      bierner.markdown-yaml-preamble   \n",
      "8                chadalen.vscode-jetbrains-icon-theme   \n",
      "9                      davidanson.vscode-markdownlint   \n",
      "10                                    eamodio.gitlens   \n",
      "11                     eliostruyf.vscode-front-matter   \n",
      "12                             esbenp.prettier-vscode   \n",
      "13                                     github.copilot   \n",
      "14                                github.copilot-chat   \n",
      "15                         github.github-vscode-theme   \n",
      "16                                          golang.go   \n",
      "17                                           jock.svg   \n",
      "18                               khaeransori.json2csv   \n",
      "19                                      meezilla.json   \n",
      "20                         miguelsolorio.fluent-icons   \n",
      "21                                  ms-python.debugpy   \n",
      "22                                   ms-python.python   \n",
      "23                           ms-python.vscode-pylance   \n",
      "24                            ms-toolsai.datawrangler   \n",
      "25                                 ms-toolsai.jupyter   \n",
      "26                          ms-toolsai.jupyter-keymap   \n",
      "27                       ms-toolsai.jupyter-renderers   \n",
      "28                ms-toolsai.python-ds-extension-pack   \n",
      "29                ms-toolsai.vscode-jupyter-cell-tags   \n",
      "30                ms-toolsai.vscode-jupyter-slideshow   \n",
      "31                        ms-vscode-remote.remote-wsl   \n",
      "32                            ms-vscode.vscode-speech   \n",
      "33                       rangav.vscode-thunder-client   \n",
      "34                                 redhat.vscode-yaml   \n",
      "35                              ritwickdey.liveserver   \n",
      "36                shd101wyy.markdown-preview-enhanced   \n",
      "37                               usernamehw.errorlens   \n",
      "38  visualstudioexptteam.intellicode-api-usage-exa...   \n",
      "39             visualstudioexptteam.vscodeintellicode   \n",
      "40                                vsls-contrib.gitdoc   \n",
      "41                         yzhang.markdown-all-in-one   \n",
      "\n",
      "                                                  url  \n",
      "0   https://marketplace.visualstudio.com/items?ite...  \n",
      "1   https://marketplace.visualstudio.com/items?ite...  \n",
      "2   https://marketplace.visualstudio.com/items?ite...  \n",
      "3   https://marketplace.visualstudio.com/items?ite...  \n",
      "4   https://marketplace.visualstudio.com/items?ite...  \n",
      "5   https://marketplace.visualstudio.com/items?ite...  \n",
      "6   https://marketplace.visualstudio.com/items?ite...  \n",
      "7   https://marketplace.visualstudio.com/items?ite...  \n",
      "8   https://marketplace.visualstudio.com/items?ite...  \n",
      "9   https://marketplace.visualstudio.com/items?ite...  \n",
      "10  https://marketplace.visualstudio.com/items?ite...  \n",
      "11  https://marketplace.visualstudio.com/items?ite...  \n",
      "12  https://marketplace.visualstudio.com/items?ite...  \n",
      "13  https://marketplace.visualstudio.com/items?ite...  \n",
      "14  https://marketplace.visualstudio.com/items?ite...  \n",
      "15  https://marketplace.visualstudio.com/items?ite...  \n",
      "16  https://marketplace.visualstudio.com/items?ite...  \n",
      "17  https://marketplace.visualstudio.com/items?ite...  \n",
      "18  https://marketplace.visualstudio.com/items?ite...  \n",
      "19  https://marketplace.visualstudio.com/items?ite...  \n",
      "20  https://marketplace.visualstudio.com/items?ite...  \n",
      "21  https://marketplace.visualstudio.com/items?ite...  \n",
      "22  https://marketplace.visualstudio.com/items?ite...  \n",
      "23  https://marketplace.visualstudio.com/items?ite...  \n",
      "24  https://marketplace.visualstudio.com/items?ite...  \n",
      "25  https://marketplace.visualstudio.com/items?ite...  \n",
      "26  https://marketplace.visualstudio.com/items?ite...  \n",
      "27  https://marketplace.visualstudio.com/items?ite...  \n",
      "28  https://marketplace.visualstudio.com/items?ite...  \n",
      "29  https://marketplace.visualstudio.com/items?ite...  \n",
      "30  https://marketplace.visualstudio.com/items?ite...  \n",
      "31  https://marketplace.visualstudio.com/items?ite...  \n",
      "32  https://marketplace.visualstudio.com/items?ite...  \n",
      "33  https://marketplace.visualstudio.com/items?ite...  \n",
      "34  https://marketplace.visualstudio.com/items?ite...  \n",
      "35  https://marketplace.visualstudio.com/items?ite...  \n",
      "36  https://marketplace.visualstudio.com/items?ite...  \n",
      "37  https://marketplace.visualstudio.com/items?ite...  \n",
      "38  https://marketplace.visualstudio.com/items?ite...  \n",
      "39  https://marketplace.visualstudio.com/items?ite...  \n",
      "40  https://marketplace.visualstudio.com/items?ite...  \n",
      "41  https://marketplace.visualstudio.com/items?ite...  \n"
     ]
    }
   ],
   "source": [
    "extensions_data = generate_extension_data(dotenv_path, extensions)\n",
    "print(extensions_data)"
   ]
  },
  {
   "cell_type": "code",
   "execution_count": 5,
   "metadata": {},
   "outputs": [],
   "source": [
    "save_as_csv = save_to_csv(extensions_data, 'extensions.csv')"
   ]
  },
  {
   "cell_type": "code",
   "execution_count": 4,
   "metadata": {},
   "outputs": [],
   "source": [
    "save_as_md = save_to_markdown(extensions_data, 'extensions.md')"
   ]
  }
 ],
 "metadata": {
  "kernelspec": {
   "display_name": "iat_lht_data_monitoring",
   "language": "python",
   "name": "python3"
  },
  "language_info": {
   "codemirror_mode": {
    "name": "ipython",
    "version": 3
   },
   "file_extension": ".py",
   "mimetype": "text/x-python",
   "name": "python",
   "nbconvert_exporter": "python",
   "pygments_lexer": "ipython3",
   "version": "3.12.4"
  }
 },
 "nbformat": 4,
 "nbformat_minor": 2
}
