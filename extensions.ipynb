{
 "cells": [
  {
   "cell_type": "markdown",
   "metadata": {},
   "source": [
    "# Generate list of Extension in CSV"
   ]
  },
  {
   "cell_type": "code",
   "execution_count": 1,
   "metadata": {},
   "outputs": [],
   "source": [
    "import pandas as pd\n",
    "import subprocess\n",
    "import requests\n",
    "from lxml import html\n",
    "from dotenv import load_dotenv\n",
    "import os\n",
    "\n",
    "# Specify the path to the .env file\n",
    "dotenv_path = '.env'\n",
    "\n",
    "# Load the .env file\n",
    "load_dotenv(dotenv_path)\n",
    "code_cmd_path = os.getenv('CODE_CMD_PATH')"
   ]
  },
  {
   "cell_type": "code",
   "execution_count": null,
   "metadata": {},
   "outputs": [],
   "source": [
    "# Run the command to list VS Code extensions\n",
    "\n",
    "code_cmd = code_cmd_path # get from .env file\n",
    "result = subprocess.run([code_cmd, '--list-extensions'], capture_output=True, text=True)\n",
    "xpath = '//*[@id=\"section-banner\"]/div/table/tbody/tr/td[2]/div/h1/span'  # Replace with your specific XPath\n",
    "\n",
    "# Extract the list of extensions from the result\n",
    "\n",
    "extensions = result.stdout.splitlines()\n",
    "\n",
    "# URL generation\n",
    "\n",
    "generated_url= ['https://marketplace.visualstudio.com/items?itemName=' + ext for ext in extensions]\n",
    "\n",
    "# Function to extract specific XPath\n",
    "\n",
    "def extract_xpath(url, xpath):\n",
    "    try:\n",
    "        response = requests.get(url)\n",
    "        response.raise_for_status()  # Raise an exception for bad status codes\n",
    "        tree = html.fromstring(response.content)\n",
    "        content = tree.xpath(xpath)[0].text\n",
    "        return content\n",
    "    except (requests.exceptions.RequestException, IndexError):\n",
    "        return None\n",
    "\n",
    "# get name from xpath\n",
    "\n",
    "extension_names = [extract_xpath(u, xpath) for u in generated_url]\n",
    "\n",
    "# Create a new DataFrame with the required columns\n",
    "\n",
    "df = pd.DataFrame({\n",
    "    'extension name': extension_names,\n",
    "    'identifier': extensions,\n",
    "    'url': generated_url\n",
    "})\n",
    "\n",
    "# Save the new DataFrame to a CSV file\n",
    "\n",
    "df.to_csv('extensions.csv', index=False)\n",
    "\n",
    "# Save the new DataFrame to a Markdown file\n",
    "\n",
    "with open('extensions.md', 'w') as f:\n",
    "    f.write(\"# My VS Code Extensions\\n\\n\")\n",
    "    for index, row in df.iterrows():\n",
    "        f.write(f\"[{row['extension name']}]({row['url']})\\n\")\n",
    "print(df)"
   ]
  }
 ],
 "metadata": {
  "kernelspec": {
   "display_name": "iat_lht_data_monitoring",
   "language": "python",
   "name": "python3"
  },
  "language_info": {
   "codemirror_mode": {
    "name": "ipython",
    "version": 3
   },
   "file_extension": ".py",
   "mimetype": "text/x-python",
   "name": "python",
   "nbconvert_exporter": "python",
   "pygments_lexer": "ipython3",
   "version": "3.12.4"
  }
 },
 "nbformat": 4,
 "nbformat_minor": 2
}
